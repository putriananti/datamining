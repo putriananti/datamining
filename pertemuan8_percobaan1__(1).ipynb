{
  "nbformat": 4,
  "nbformat_minor": 0,
  "metadata": {
    "colab": {
      "name": "pertemuan8_percobaan1_ (1).ipynb",
      "provenance": [],
      "include_colab_link": true
    },
    "kernelspec": {
      "name": "python3",
      "display_name": "Python 3"
    },
    "language_info": {
      "name": "python"
    }
  },
  "cells": [
    {
      "cell_type": "markdown",
      "metadata": {
        "id": "view-in-github",
        "colab_type": "text"
      },
      "source": [
        "<a href=\"https://colab.research.google.com/github/putriananti/datamining/blob/main/pertemuan8_percobaan1__(1).ipynb\" target=\"_parent\"><img src=\"https://colab.research.google.com/assets/colab-badge.svg\" alt=\"Open In Colab\"/></a>"
      ]
    },
    {
      "cell_type": "code",
      "metadata": {
        "id": "3G1kp5Rjf7PI"
      },
      "source": [
        "import numpy as np"
      ],
      "execution_count": null,
      "outputs": []
    },
    {
      "cell_type": "code",
      "metadata": {
        "id": "vo9QrPzYgRbK"
      },
      "source": [
        "def forwardPass(inputs, weight, bias):\n",
        "  w_sum = np.dot(inputs, weight) + bias\n",
        "\n",
        "  # Linear Activation f(x) = x\n",
        "  act = w_sum\n",
        "\n",
        "  return act"
      ],
      "execution_count": null,
      "outputs": []
    },
    {
      "cell_type": "code",
      "metadata": {
        "id": "F9moTIpEg0kB"
      },
      "source": [
        "# PRE-TRAINED Weights & Biases after Training\n",
        "\n",
        "W = np.array([[2.99999928]])\n",
        "b = np.array([1.99999976])"
      ],
      "execution_count": null,
      "outputs": []
    },
    {
      "cell_type": "code",
      "metadata": {
        "id": "mOD52FX3hPZY"
      },
      "source": [
        "# Initialize Input Data\n",
        "inputs = np.array([[7], [8], [9], [10]])"
      ],
      "execution_count": null,
      "outputs": []
    },
    {
      "cell_type": "code",
      "metadata": {
        "colab": {
          "base_uri": "https://localhost:8080/"
        },
        "id": "IB0i37YzhrD8",
        "outputId": "4af1e132-6d73-4c2f-ae0d-91cd06457dcb"
      },
      "source": [
        "#Output of output Layer\n",
        "o_out = forwardPass(inputs, W, b)\n",
        "\n",
        "print('Output Layer Output (Linear)')\n",
        "print('================================')\n",
        "print(o_out, \"\\n\")"
      ],
      "execution_count": null,
      "outputs": [
        {
          "output_type": "stream",
          "text": [
            "Output Layer Output (Linear)\n",
            "================================\n",
            "[[22.99999472]\n",
            " [25.999994  ]\n",
            " [28.99999328]\n",
            " [31.99999256]] \n",
            "\n"
          ],
          "name": "stdout"
        }
      ]
    }
  ]
}