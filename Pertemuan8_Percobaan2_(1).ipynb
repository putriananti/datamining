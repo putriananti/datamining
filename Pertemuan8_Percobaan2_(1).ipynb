{
  "nbformat": 4,
  "nbformat_minor": 0,
  "metadata": {
    "colab": {
      "name": "Pertemuan8_Percobaan2 (1).ipynb",
      "provenance": [],
      "collapsed_sections": [],
      "include_colab_link": true
    },
    "kernelspec": {
      "name": "python3",
      "display_name": "Python 3"
    },
    "language_info": {
      "name": "python"
    }
  },
  "cells": [
    {
      "cell_type": "markdown",
      "metadata": {
        "id": "view-in-github",
        "colab_type": "text"
      },
      "source": [
        "<a href=\"https://colab.research.google.com/github/putriananti/datamining/blob/main/Pertemuan8_Percobaan2_(1).ipynb\" target=\"_parent\"><img src=\"https://colab.research.google.com/assets/colab-badge.svg\" alt=\"Open In Colab\"/></a>"
      ]
    },
    {
      "cell_type": "code",
      "metadata": {
        "id": "x-mbyjAmoPHD"
      },
      "source": [
        "import numpy as np"
      ],
      "execution_count": null,
      "outputs": []
    },
    {
      "cell_type": "code",
      "metadata": {
        "id": "eDv7sanJoi09"
      },
      "source": [
        "def forwardpass(inputs, weight, bias, activation = 'linear'):\n",
        "  w_sum = np.dot(inputs, weight) + bias\n",
        "\n",
        "  if activation is 'relu' :\n",
        "    # Relu Activation f(x) = max(0, x)\n",
        "    act = np.maximum(w_sum, 0)\n",
        "  else :\n",
        "            # Linear Activation f(X) = x\n",
        "            act = w_sum\n",
        "\n",
        "            return act"
      ],
      "execution_count": null,
      "outputs": []
    },
    {
      "cell_type": "code",
      "metadata": {
        "id": "GHVRwPNcqK6N"
      },
      "source": [
        "W_H = np.array([[0.00192761, -0.78845304, 0.30310717, 0.44131625, 0.32792646, -0.02451803,1.43445349,-1.12972116]])\n",
        "b_H = np.array([-0.02657719, -1.15885878, -0.79183501, -0.33550513, -0.23438406, -0.25078532, 0.22305705, 0.80253315])\n",
        "\n",
        "W_o = np.array([[-0.77540326],[ 0.5030424 ], [ 0.37374797 ], [-0.20287184], [-0.35956827], [-0.54576212], [1.04326093], [ 0.8857621]])\n",
        "b_o = np.array([ 0.04351173])"
      ],
      "execution_count": null,
      "outputs": []
    },
    {
      "cell_type": "code",
      "metadata": {
        "id": "wt7rOb--w6Ci"
      },
      "source": [
        "#Initialize Input Data\n",
        "inputs = np.array([[-2], [0], [2]])"
      ],
      "execution_count": null,
      "outputs": []
    },
    {
      "cell_type": "code",
      "metadata": {
        "id": "v2tIhs7VxMlb",
        "colab": {
          "base_uri": "https://localhost:8080/"
        },
        "outputId": "7de110e5-806c-41c1-cb86-433f96690648"
      },
      "source": [
        "#Output of Hidden Layer Data\n",
        "h_out = forwardPass(inputs, W_H,b_H, )\n",
        "\n",
        "print('Hidden Layer Output (relu)')\n",
        "print('=============================')\n",
        "print(h_out, \"\\n\")\n",
        "\n",
        "#Output Of  Output Layer\n",
        "o_out = forwardPass(h_out, W_o, b_o, )\n",
        "\n",
        "print('Output Layer Output (Linear)')\n",
        "print('================================')\n",
        "print(o_out, \"\\n\") "
      ],
      "execution_count": null,
      "outputs": [
        {
          "output_type": "stream",
          "text": [
            "Hidden Layer Output (relu)\n",
            "=============================\n",
            "[[-0.03043241  0.4180473  -1.39804935 -1.21813763 -0.89023698 -0.20174926\n",
            "  -2.64584993  3.06197547]\n",
            " [-0.02657719 -1.15885878 -0.79183501 -0.33550513 -0.23438406 -0.25078532\n",
            "   0.22305705  0.80253315]\n",
            " [-0.02272197 -2.73576486 -0.18562067  0.54712737  0.42146886 -0.29982138\n",
            "   3.09196403 -1.45690917]] \n",
            "\n",
            "Output Layer Output (Linear)\n",
            "================================\n",
            "[[0.38409039]\n",
            " [0.41798884]\n",
            " [0.45188728]] \n",
            "\n"
          ],
          "name": "stdout"
        }
      ]
    }
  ]
}