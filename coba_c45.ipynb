{
  "nbformat": 4,
  "nbformat_minor": 0,
  "metadata": {
    "colab": {
      "name": "coba_c45.ipynb",
      "provenance": [],
      "include_colab_link": true
    },
    "kernelspec": {
      "name": "python3",
      "display_name": "Python 3"
    },
    "language_info": {
      "name": "python"
    }
  },
  "cells": [
    {
      "cell_type": "markdown",
      "metadata": {
        "id": "view-in-github",
        "colab_type": "text"
      },
      "source": [
        "<a href=\"https://colab.research.google.com/github/putriananti/datamining/blob/main/coba_c45.ipynb\" target=\"_parent\"><img src=\"https://colab.research.google.com/assets/colab-badge.svg\" alt=\"Open In Colab\"/></a>"
      ]
    },
    {
      "cell_type": "code",
      "metadata": {
        "id": "TpEFcEO2rixy"
      },
      "source": [
        "#import numpy, pandas, dan scikit-learn\n",
        "import numpy as np\n",
        "import pandas as pd\n",
        "from sklearn import tree"
      ],
      "execution_count": null,
      "outputs": []
    },
    {
      "cell_type": "code",
      "metadata": {
        "id": "UwroXtffsPdf"
      },
      "source": [
        "#membaca dataset dr file ke pandas dataFrame\n",
        "irisDataset = pd.read_csv('klasifikasi_dataset_iris.csv', delimiter=';', header=0)"
      ],
      "execution_count": null,
      "outputs": []
    },
    {
      "cell_type": "code",
      "metadata": {
        "colab": {
          "base_uri": "https://localhost:8080/",
          "height": 200
        },
        "id": "RorXxbJFsU6U",
        "outputId": "39879572-1cc7-463f-b73f-95123025315b"
      },
      "source": [
        "irisDataset.head()"
      ],
      "execution_count": null,
      "outputs": [
        {
          "output_type": "execute_result",
          "data": {
            "text/html": [
              "<div>\n",
              "<style scoped>\n",
              "    .dataframe tbody tr th:only-of-type {\n",
              "        vertical-align: middle;\n",
              "    }\n",
              "\n",
              "    .dataframe tbody tr th {\n",
              "        vertical-align: top;\n",
              "    }\n",
              "\n",
              "    .dataframe thead th {\n",
              "        text-align: right;\n",
              "    }\n",
              "</style>\n",
              "<table border=\"1\" class=\"dataframe\">\n",
              "  <thead>\n",
              "    <tr style=\"text-align: right;\">\n",
              "      <th></th>\n",
              "      <th>Id</th>\n",
              "      <th>SepalLengthCm</th>\n",
              "      <th>SepalWidthCm</th>\n",
              "      <th>PetalLengthCm</th>\n",
              "      <th>PetalWidthCm</th>\n",
              "      <th>Species</th>\n",
              "    </tr>\n",
              "  </thead>\n",
              "  <tbody>\n",
              "    <tr>\n",
              "      <th>0</th>\n",
              "      <td>1</td>\n",
              "      <td>7.00</td>\n",
              "      <td>3.02</td>\n",
              "      <td>4.07</td>\n",
              "      <td>1.04</td>\n",
              "      <td>Iris-versicolor</td>\n",
              "    </tr>\n",
              "    <tr>\n",
              "      <th>1</th>\n",
              "      <td>2</td>\n",
              "      <td>6.04</td>\n",
              "      <td>3.02</td>\n",
              "      <td>4.05</td>\n",
              "      <td>1.05</td>\n",
              "      <td>Iris-versicolor</td>\n",
              "    </tr>\n",
              "    <tr>\n",
              "      <th>2</th>\n",
              "      <td>3</td>\n",
              "      <td>6.09</td>\n",
              "      <td>3.01</td>\n",
              "      <td>4.09</td>\n",
              "      <td>1.05</td>\n",
              "      <td>Iris-versicolor</td>\n",
              "    </tr>\n",
              "    <tr>\n",
              "      <th>3</th>\n",
              "      <td>4</td>\n",
              "      <td>5.05</td>\n",
              "      <td>2.03</td>\n",
              "      <td>4.00</td>\n",
              "      <td>1.03</td>\n",
              "      <td>Iris-versicolor</td>\n",
              "    </tr>\n",
              "    <tr>\n",
              "      <th>4</th>\n",
              "      <td>5</td>\n",
              "      <td>6.05</td>\n",
              "      <td>2.08</td>\n",
              "      <td>4.06</td>\n",
              "      <td>1.05</td>\n",
              "      <td>Iris-versicolor</td>\n",
              "    </tr>\n",
              "  </tbody>\n",
              "</table>\n",
              "</div>"
            ],
            "text/plain": [
              "   Id  SepalLengthCm  ...  PetalWidthCm          Species\n",
              "0   1           7.00  ...          1.04  Iris-versicolor\n",
              "1   2           6.04  ...          1.05  Iris-versicolor\n",
              "2   3           6.09  ...          1.05  Iris-versicolor\n",
              "3   4           5.05  ...          1.03  Iris-versicolor\n",
              "4   5           6.05  ...          1.05  Iris-versicolor\n",
              "\n",
              "[5 rows x 6 columns]"
            ]
          },
          "metadata": {
            "tags": []
          },
          "execution_count": 6
        }
      ]
    },
    {
      "cell_type": "code",
      "metadata": {
        "id": "OwyDsPNTsbQs"
      },
      "source": [
        "#mengubah kelas (kolom \"species\") dari string ke unique-integer\n",
        "irisDataset['Species'] = pd.factorize(irisDataset.Species)[0]"
      ],
      "execution_count": null,
      "outputs": []
    },
    {
      "cell_type": "code",
      "metadata": {
        "colab": {
          "base_uri": "https://localhost:8080/",
          "height": 200
        },
        "id": "nP_IobF7srk_",
        "outputId": "b292be6d-7a1a-4a8f-f4ce-81f34d0e9356"
      },
      "source": [
        "irisDataset.head()"
      ],
      "execution_count": null,
      "outputs": [
        {
          "output_type": "execute_result",
          "data": {
            "text/html": [
              "<div>\n",
              "<style scoped>\n",
              "    .dataframe tbody tr th:only-of-type {\n",
              "        vertical-align: middle;\n",
              "    }\n",
              "\n",
              "    .dataframe tbody tr th {\n",
              "        vertical-align: top;\n",
              "    }\n",
              "\n",
              "    .dataframe thead th {\n",
              "        text-align: right;\n",
              "    }\n",
              "</style>\n",
              "<table border=\"1\" class=\"dataframe\">\n",
              "  <thead>\n",
              "    <tr style=\"text-align: right;\">\n",
              "      <th></th>\n",
              "      <th>Id</th>\n",
              "      <th>SepalLengthCm</th>\n",
              "      <th>SepalWidthCm</th>\n",
              "      <th>PetalLengthCm</th>\n",
              "      <th>PetalWidthCm</th>\n",
              "      <th>Species</th>\n",
              "    </tr>\n",
              "  </thead>\n",
              "  <tbody>\n",
              "    <tr>\n",
              "      <th>0</th>\n",
              "      <td>1</td>\n",
              "      <td>7.00</td>\n",
              "      <td>3.02</td>\n",
              "      <td>4.07</td>\n",
              "      <td>1.04</td>\n",
              "      <td>0</td>\n",
              "    </tr>\n",
              "    <tr>\n",
              "      <th>1</th>\n",
              "      <td>2</td>\n",
              "      <td>6.04</td>\n",
              "      <td>3.02</td>\n",
              "      <td>4.05</td>\n",
              "      <td>1.05</td>\n",
              "      <td>0</td>\n",
              "    </tr>\n",
              "    <tr>\n",
              "      <th>2</th>\n",
              "      <td>3</td>\n",
              "      <td>6.09</td>\n",
              "      <td>3.01</td>\n",
              "      <td>4.09</td>\n",
              "      <td>1.05</td>\n",
              "      <td>0</td>\n",
              "    </tr>\n",
              "    <tr>\n",
              "      <th>3</th>\n",
              "      <td>4</td>\n",
              "      <td>5.05</td>\n",
              "      <td>2.03</td>\n",
              "      <td>4.00</td>\n",
              "      <td>1.03</td>\n",
              "      <td>0</td>\n",
              "    </tr>\n",
              "    <tr>\n",
              "      <th>4</th>\n",
              "      <td>5</td>\n",
              "      <td>6.05</td>\n",
              "      <td>2.08</td>\n",
              "      <td>4.06</td>\n",
              "      <td>1.05</td>\n",
              "      <td>0</td>\n",
              "    </tr>\n",
              "  </tbody>\n",
              "</table>\n",
              "</div>"
            ],
            "text/plain": [
              "   Id  SepalLengthCm  SepalWidthCm  PetalLengthCm  PetalWidthCm  Species\n",
              "0   1           7.00          3.02           4.07          1.04        0\n",
              "1   2           6.04          3.02           4.05          1.05        0\n",
              "2   3           6.09          3.01           4.09          1.05        0\n",
              "3   4           5.05          2.03           4.00          1.03        0\n",
              "4   5           6.05          2.08           4.06          1.05        0"
            ]
          },
          "metadata": {
            "tags": []
          },
          "execution_count": 8
        }
      ]
    },
    {
      "cell_type": "code",
      "metadata": {
        "colab": {
          "base_uri": "https://localhost:8080/"
        },
        "id": "Y_SL8aWPsxBf",
        "outputId": "62123ad3-ed2f-49fc-9430-1b184a215c4c"
      },
      "source": [
        "print(irisDataset)"
      ],
      "execution_count": null,
      "outputs": [
        {
          "output_type": "stream",
          "text": [
            "     Id  SepalLengthCm  SepalWidthCm  PetalLengthCm  PetalWidthCm  Species\n",
            "0     1           7.00          3.02           4.07          1.04        0\n",
            "1     2           6.04          3.02           4.05          1.05        0\n",
            "2     3           6.09          3.01           4.09          1.05        0\n",
            "3     4           5.05          2.03           4.00          1.03        0\n",
            "4     5           6.05          2.08           4.06          1.05        0\n",
            "..  ...            ...           ...            ...           ...      ...\n",
            "95   96           6.07          3.00           5.02          2.03        1\n",
            "96   97           6.03          2.05           5.00          1.09        1\n",
            "97   98           6.05          3.00           5.02          2.00        1\n",
            "98   99           6.02          3.04           5.04          2.03        1\n",
            "99  100           5.09          3.00           5.01          1.08        1\n",
            "\n",
            "[100 rows x 6 columns]\n"
          ],
          "name": "stdout"
        }
      ]
    },
    {
      "cell_type": "code",
      "metadata": {
        "id": "YoiEsEJxs4CB"
      },
      "source": [
        "#menghapus kolom \"Id\"\n",
        "irisDataset = irisDataset.drop(labels=\"Id\", axis=1)"
      ],
      "execution_count": null,
      "outputs": []
    },
    {
      "cell_type": "code",
      "metadata": {
        "colab": {
          "base_uri": "https://localhost:8080/"
        },
        "id": "aju0_NmXtFMw",
        "outputId": "2af60a2f-ed83-48a6-a587-6f5961cd01c9"
      },
      "source": [
        "print(irisDataset)"
      ],
      "execution_count": null,
      "outputs": [
        {
          "output_type": "stream",
          "text": [
            "    SepalLengthCm  SepalWidthCm  PetalLengthCm  PetalWidthCm  Species\n",
            "0            7.00          3.02           4.07          1.04        0\n",
            "1            6.04          3.02           4.05          1.05        0\n",
            "2            6.09          3.01           4.09          1.05        0\n",
            "3            5.05          2.03           4.00          1.03        0\n",
            "4            6.05          2.08           4.06          1.05        0\n",
            "..            ...           ...            ...           ...      ...\n",
            "95           6.07          3.00           5.02          2.03        1\n",
            "96           6.03          2.05           5.00          1.09        1\n",
            "97           6.05          3.00           5.02          2.00        1\n",
            "98           6.02          3.04           5.04          2.03        1\n",
            "99           5.09          3.00           5.01          1.08        1\n",
            "\n",
            "[100 rows x 5 columns]\n"
          ],
          "name": "stdout"
        }
      ]
    },
    {
      "cell_type": "code",
      "metadata": {
        "id": "ziN6QHtAtKKn"
      },
      "source": [
        "#mengubah dataFrame ke array Numpy\n",
        "irisDataset = irisDataset.to_numpy()"
      ],
      "execution_count": null,
      "outputs": []
    },
    {
      "cell_type": "code",
      "metadata": {
        "colab": {
          "base_uri": "https://localhost:8080/"
        },
        "id": "rB9YlhrrtQFh",
        "outputId": "ceaa8ebf-f5a8-4d6f-8b02-9a2e931a76a8"
      },
      "source": [
        "print(irisDataset)"
      ],
      "execution_count": null,
      "outputs": [
        {
          "output_type": "stream",
          "text": [
            "[[7.   3.02 4.07 1.04 0.  ]\n",
            " [6.04 3.02 4.05 1.05 0.  ]\n",
            " [6.09 3.01 4.09 1.05 0.  ]\n",
            " [5.05 2.03 4.   1.03 0.  ]\n",
            " [6.05 2.08 4.06 1.05 0.  ]\n",
            " [5.07 2.08 4.05 1.03 0.  ]\n",
            " [6.03 3.03 4.07 1.06 0.  ]\n",
            " [4.09 2.04 3.03 1.   0.  ]\n",
            " [6.06 2.09 4.06 1.03 0.  ]\n",
            " [5.02 2.07 3.09 1.04 0.  ]\n",
            " [5.   2.   3.05 1.   0.  ]\n",
            " [5.09 3.   4.02 1.05 0.  ]\n",
            " [6.   2.02 4.   1.   0.  ]\n",
            " [6.01 2.09 4.07 1.04 0.  ]\n",
            " [5.06 2.09 3.06 1.03 0.  ]\n",
            " [6.07 3.01 4.04 1.04 0.  ]\n",
            " [5.06 3.   4.05 1.05 0.  ]\n",
            " [5.08 2.07 4.01 1.   0.  ]\n",
            " [6.02 2.02 4.05 1.05 0.  ]\n",
            " [5.06 2.05 3.09 1.01 0.  ]\n",
            " [5.09 3.02 4.08 1.08 0.  ]\n",
            " [6.01 2.08 4.   1.03 0.  ]\n",
            " [6.03 2.05 4.09 1.05 0.  ]\n",
            " [6.01 2.08 4.07 1.02 0.  ]\n",
            " [6.04 2.09 4.03 1.03 0.  ]\n",
            " [6.06 3.   4.04 1.04 0.  ]\n",
            " [6.08 2.08 4.08 1.04 0.  ]\n",
            " [6.07 3.   5.   1.07 0.  ]\n",
            " [6.   2.09 4.05 1.05 0.  ]\n",
            " [5.07 2.06 3.05 1.   0.  ]\n",
            " [5.05 2.04 3.08 1.01 0.  ]\n",
            " [5.05 2.04 3.07 1.   0.  ]\n",
            " [5.08 2.07 3.09 1.02 0.  ]\n",
            " [6.   2.07 5.01 1.06 0.  ]\n",
            " [5.04 3.   4.05 1.05 0.  ]\n",
            " [6.   3.04 4.05 1.06 0.  ]\n",
            " [6.07 3.01 4.07 1.05 0.  ]\n",
            " [6.03 2.03 4.04 1.03 0.  ]\n",
            " [5.06 3.   4.01 1.03 0.  ]\n",
            " [5.05 2.05 4.   1.03 0.  ]\n",
            " [5.05 2.06 4.04 1.02 0.  ]\n",
            " [6.01 3.   4.06 1.04 0.  ]\n",
            " [5.08 2.06 4.   1.02 0.  ]\n",
            " [5.   2.03 3.03 1.   0.  ]\n",
            " [5.06 2.07 4.02 1.03 0.  ]\n",
            " [5.07 3.   4.02 1.02 0.  ]\n",
            " [5.07 2.09 4.02 1.03 0.  ]\n",
            " [6.02 2.09 4.03 1.03 0.  ]\n",
            " [5.01 2.05 3.   1.01 0.  ]\n",
            " [5.07 2.08 4.01 1.03 0.  ]\n",
            " [6.03 3.03 6.   2.05 1.  ]\n",
            " [5.08 2.07 5.01 1.09 1.  ]\n",
            " [7.01 3.   5.09 2.01 1.  ]\n",
            " [6.03 2.09 5.06 1.08 1.  ]\n",
            " [6.05 3.   5.08 2.02 1.  ]\n",
            " [7.06 3.   6.06 2.01 1.  ]\n",
            " [4.09 2.05 4.05 1.07 1.  ]\n",
            " [7.03 2.09 6.03 1.08 1.  ]\n",
            " [6.07 2.05 5.08 1.08 1.  ]\n",
            " [7.02 3.06 6.01 2.05 1.  ]\n",
            " [6.05 3.02 5.01 2.   1.  ]\n",
            " [6.04 2.07 5.03 1.09 1.  ]\n",
            " [6.08 3.   5.05 2.01 1.  ]\n",
            " [5.07 2.05 5.   2.   1.  ]\n",
            " [5.08 2.08 5.01 2.04 1.  ]\n",
            " [6.04 3.02 5.03 2.03 1.  ]\n",
            " [6.05 3.   5.05 1.08 1.  ]\n",
            " [7.07 3.08 6.07 2.02 1.  ]\n",
            " [7.07 2.06 6.09 2.03 1.  ]\n",
            " [6.   2.02 5.   1.05 1.  ]\n",
            " [6.09 3.02 5.07 2.03 1.  ]\n",
            " [5.06 2.08 4.09 2.   1.  ]\n",
            " [7.07 2.08 6.07 2.   1.  ]\n",
            " [6.03 2.07 4.09 1.08 1.  ]\n",
            " [6.07 3.03 5.07 2.01 1.  ]\n",
            " [7.02 3.02 6.   1.08 1.  ]\n",
            " [6.02 2.08 4.08 1.08 1.  ]\n",
            " [6.01 3.   4.09 1.08 1.  ]\n",
            " [6.04 2.08 5.06 2.01 1.  ]\n",
            " [7.02 3.   5.08 1.06 1.  ]\n",
            " [7.04 2.08 6.01 1.09 1.  ]\n",
            " [7.09 3.08 6.04 2.   1.  ]\n",
            " [6.04 2.08 5.06 2.02 1.  ]\n",
            " [6.03 2.08 5.01 1.05 1.  ]\n",
            " [6.01 2.06 5.06 1.04 1.  ]\n",
            " [7.07 3.   6.01 2.03 1.  ]\n",
            " [6.03 3.04 5.06 2.04 1.  ]\n",
            " [6.04 3.01 5.05 1.08 1.  ]\n",
            " [6.   3.   4.08 1.08 1.  ]\n",
            " [6.09 3.01 5.04 2.01 1.  ]\n",
            " [6.07 3.01 5.06 2.04 1.  ]\n",
            " [6.09 3.01 5.01 2.03 1.  ]\n",
            " [5.08 2.07 5.01 1.09 1.  ]\n",
            " [6.08 3.02 5.09 2.03 1.  ]\n",
            " [6.07 3.03 5.07 2.05 1.  ]\n",
            " [6.07 3.   5.02 2.03 1.  ]\n",
            " [6.03 2.05 5.   1.09 1.  ]\n",
            " [6.05 3.   5.02 2.   1.  ]\n",
            " [6.02 3.04 5.04 2.03 1.  ]\n",
            " [5.09 3.   5.01 1.08 1.  ]]\n"
          ],
          "name": "stdout"
        }
      ]
    },
    {
      "cell_type": "code",
      "metadata": {
        "id": "yBjkkxXHtVaY"
      },
      "source": [
        "#membagi dataset 80 baris utk data training dan 20 baris utk data testing\n",
        "dataTraining = np.concatenate((irisDataset[0:40, :], irisDataset[50:90, :]), axis=0)\n",
        "dataTesting = np.concatenate((irisDataset[40:50, :], irisDataset[90:100, :]), axis=0)"
      ],
      "execution_count": null,
      "outputs": []
    },
    {
      "cell_type": "code",
      "metadata": {
        "colab": {
          "base_uri": "https://localhost:8080/"
        },
        "id": "vU2xc5ATtboY",
        "outputId": "2d790924-0fe9-42d4-e193-6a18d5d78814"
      },
      "source": [
        "print(dataTraining)\n",
        "len(dataTraining)"
      ],
      "execution_count": null,
      "outputs": [
        {
          "output_type": "stream",
          "text": [
            "[[7.   3.02 4.07 1.04 0.  ]\n",
            " [6.04 3.02 4.05 1.05 0.  ]\n",
            " [6.09 3.01 4.09 1.05 0.  ]\n",
            " [5.05 2.03 4.   1.03 0.  ]\n",
            " [6.05 2.08 4.06 1.05 0.  ]\n",
            " [5.07 2.08 4.05 1.03 0.  ]\n",
            " [6.03 3.03 4.07 1.06 0.  ]\n",
            " [4.09 2.04 3.03 1.   0.  ]\n",
            " [6.06 2.09 4.06 1.03 0.  ]\n",
            " [5.02 2.07 3.09 1.04 0.  ]\n",
            " [5.   2.   3.05 1.   0.  ]\n",
            " [5.09 3.   4.02 1.05 0.  ]\n",
            " [6.   2.02 4.   1.   0.  ]\n",
            " [6.01 2.09 4.07 1.04 0.  ]\n",
            " [5.06 2.09 3.06 1.03 0.  ]\n",
            " [6.07 3.01 4.04 1.04 0.  ]\n",
            " [5.06 3.   4.05 1.05 0.  ]\n",
            " [5.08 2.07 4.01 1.   0.  ]\n",
            " [6.02 2.02 4.05 1.05 0.  ]\n",
            " [5.06 2.05 3.09 1.01 0.  ]\n",
            " [5.09 3.02 4.08 1.08 0.  ]\n",
            " [6.01 2.08 4.   1.03 0.  ]\n",
            " [6.03 2.05 4.09 1.05 0.  ]\n",
            " [6.01 2.08 4.07 1.02 0.  ]\n",
            " [6.04 2.09 4.03 1.03 0.  ]\n",
            " [6.06 3.   4.04 1.04 0.  ]\n",
            " [6.08 2.08 4.08 1.04 0.  ]\n",
            " [6.07 3.   5.   1.07 0.  ]\n",
            " [6.   2.09 4.05 1.05 0.  ]\n",
            " [5.07 2.06 3.05 1.   0.  ]\n",
            " [5.05 2.04 3.08 1.01 0.  ]\n",
            " [5.05 2.04 3.07 1.   0.  ]\n",
            " [5.08 2.07 3.09 1.02 0.  ]\n",
            " [6.   2.07 5.01 1.06 0.  ]\n",
            " [5.04 3.   4.05 1.05 0.  ]\n",
            " [6.   3.04 4.05 1.06 0.  ]\n",
            " [6.07 3.01 4.07 1.05 0.  ]\n",
            " [6.03 2.03 4.04 1.03 0.  ]\n",
            " [5.06 3.   4.01 1.03 0.  ]\n",
            " [5.05 2.05 4.   1.03 0.  ]\n",
            " [6.03 3.03 6.   2.05 1.  ]\n",
            " [5.08 2.07 5.01 1.09 1.  ]\n",
            " [7.01 3.   5.09 2.01 1.  ]\n",
            " [6.03 2.09 5.06 1.08 1.  ]\n",
            " [6.05 3.   5.08 2.02 1.  ]\n",
            " [7.06 3.   6.06 2.01 1.  ]\n",
            " [4.09 2.05 4.05 1.07 1.  ]\n",
            " [7.03 2.09 6.03 1.08 1.  ]\n",
            " [6.07 2.05 5.08 1.08 1.  ]\n",
            " [7.02 3.06 6.01 2.05 1.  ]\n",
            " [6.05 3.02 5.01 2.   1.  ]\n",
            " [6.04 2.07 5.03 1.09 1.  ]\n",
            " [6.08 3.   5.05 2.01 1.  ]\n",
            " [5.07 2.05 5.   2.   1.  ]\n",
            " [5.08 2.08 5.01 2.04 1.  ]\n",
            " [6.04 3.02 5.03 2.03 1.  ]\n",
            " [6.05 3.   5.05 1.08 1.  ]\n",
            " [7.07 3.08 6.07 2.02 1.  ]\n",
            " [7.07 2.06 6.09 2.03 1.  ]\n",
            " [6.   2.02 5.   1.05 1.  ]\n",
            " [6.09 3.02 5.07 2.03 1.  ]\n",
            " [5.06 2.08 4.09 2.   1.  ]\n",
            " [7.07 2.08 6.07 2.   1.  ]\n",
            " [6.03 2.07 4.09 1.08 1.  ]\n",
            " [6.07 3.03 5.07 2.01 1.  ]\n",
            " [7.02 3.02 6.   1.08 1.  ]\n",
            " [6.02 2.08 4.08 1.08 1.  ]\n",
            " [6.01 3.   4.09 1.08 1.  ]\n",
            " [6.04 2.08 5.06 2.01 1.  ]\n",
            " [7.02 3.   5.08 1.06 1.  ]\n",
            " [7.04 2.08 6.01 1.09 1.  ]\n",
            " [7.09 3.08 6.04 2.   1.  ]\n",
            " [6.04 2.08 5.06 2.02 1.  ]\n",
            " [6.03 2.08 5.01 1.05 1.  ]\n",
            " [6.01 2.06 5.06 1.04 1.  ]\n",
            " [7.07 3.   6.01 2.03 1.  ]\n",
            " [6.03 3.04 5.06 2.04 1.  ]\n",
            " [6.04 3.01 5.05 1.08 1.  ]\n",
            " [6.   3.   4.08 1.08 1.  ]\n",
            " [6.09 3.01 5.04 2.01 1.  ]]\n"
          ],
          "name": "stdout"
        },
        {
          "output_type": "execute_result",
          "data": {
            "text/plain": [
              "80"
            ]
          },
          "metadata": {
            "tags": []
          },
          "execution_count": 15
        }
      ]
    },
    {
      "cell_type": "code",
      "metadata": {
        "colab": {
          "base_uri": "https://localhost:8080/"
        },
        "id": "P4cm_TyFthcI",
        "outputId": "1ca3a447-e807-4424-b392-b0814ff425f5"
      },
      "source": [
        "print(dataTesting)\n",
        "len(dataTesting)"
      ],
      "execution_count": null,
      "outputs": [
        {
          "output_type": "stream",
          "text": [
            "[[5.05 2.06 4.04 1.02 0.  ]\n",
            " [6.01 3.   4.06 1.04 0.  ]\n",
            " [5.08 2.06 4.   1.02 0.  ]\n",
            " [5.   2.03 3.03 1.   0.  ]\n",
            " [5.06 2.07 4.02 1.03 0.  ]\n",
            " [5.07 3.   4.02 1.02 0.  ]\n",
            " [5.07 2.09 4.02 1.03 0.  ]\n",
            " [6.02 2.09 4.03 1.03 0.  ]\n",
            " [5.01 2.05 3.   1.01 0.  ]\n",
            " [5.07 2.08 4.01 1.03 0.  ]\n",
            " [6.07 3.01 5.06 2.04 1.  ]\n",
            " [6.09 3.01 5.01 2.03 1.  ]\n",
            " [5.08 2.07 5.01 1.09 1.  ]\n",
            " [6.08 3.02 5.09 2.03 1.  ]\n",
            " [6.07 3.03 5.07 2.05 1.  ]\n",
            " [6.07 3.   5.02 2.03 1.  ]\n",
            " [6.03 2.05 5.   1.09 1.  ]\n",
            " [6.05 3.   5.02 2.   1.  ]\n",
            " [6.02 3.04 5.04 2.03 1.  ]\n",
            " [5.09 3.   5.01 1.08 1.  ]]\n"
          ],
          "name": "stdout"
        },
        {
          "output_type": "execute_result",
          "data": {
            "text/plain": [
              "20"
            ]
          },
          "metadata": {
            "tags": []
          },
          "execution_count": 16
        }
      ]
    },
    {
      "cell_type": "code",
      "metadata": {
        "colab": {
          "base_uri": "https://localhost:8080/"
        },
        "id": "wrwxy0KctpBX",
        "outputId": "9d0ee307-eb60-4222-a733-34f281cfcc54"
      },
      "source": [
        "#memecah dataset ke input dan label\n",
        "inputTraining = dataTraining[:, 0:4]\n",
        "inputTesting = dataTesting[:, 0:4]\n",
        "labelTraining = dataTraining[:, 4]\n",
        "labelTesting = dataTesting[:, 4]\n",
        "print(labelTraining)\n",
        "len(labelTraining)"
      ],
      "execution_count": null,
      "outputs": [
        {
          "output_type": "stream",
          "text": [
            "[0. 0. 0. 0. 0. 0. 0. 0. 0. 0. 0. 0. 0. 0. 0. 0. 0. 0. 0. 0. 0. 0. 0. 0.\n",
            " 0. 0. 0. 0. 0. 0. 0. 0. 0. 0. 0. 0. 0. 0. 0. 0. 1. 1. 1. 1. 1. 1. 1. 1.\n",
            " 1. 1. 1. 1. 1. 1. 1. 1. 1. 1. 1. 1. 1. 1. 1. 1. 1. 1. 1. 1. 1. 1. 1. 1.\n",
            " 1. 1. 1. 1. 1. 1. 1. 1.]\n"
          ],
          "name": "stdout"
        },
        {
          "output_type": "execute_result",
          "data": {
            "text/plain": [
              "80"
            ]
          },
          "metadata": {
            "tags": []
          },
          "execution_count": 17
        }
      ]
    },
    {
      "cell_type": "code",
      "metadata": {
        "id": "Y4NO4sLftwEA"
      },
      "source": [
        "#mendefinisikan decision tree classifier \n",
        "model = tree.DecisionTreeClassifier()"
      ],
      "execution_count": null,
      "outputs": []
    },
    {
      "cell_type": "code",
      "metadata": {
        "id": "nWbhFbV9t29Y"
      },
      "source": [
        "#mentraining model\n",
        "model = model.fit(inputTraining, labelTraining)"
      ],
      "execution_count": null,
      "outputs": []
    },
    {
      "cell_type": "code",
      "metadata": {
        "colab": {
          "base_uri": "https://localhost:8080/"
        },
        "id": "dCbW0VySt7NI",
        "outputId": "dd02e7b2-fac6-43c7-932f-d766f308b7ab"
      },
      "source": [
        "#memprediksi input data testing\n",
        "hasilPrediksi = model.predict(inputTesting)\n",
        "print(\"Label Sebenarnya : \", labelTesting)\n",
        "print(\"Hasil Prediksi : \", hasilPrediksi)"
      ],
      "execution_count": null,
      "outputs": [
        {
          "output_type": "stream",
          "text": [
            "Label Sebenarnya :  [0. 0. 0. 0. 0. 0. 0. 0. 0. 0. 1. 1. 1. 1. 1. 1. 1. 1. 1. 1.]\n",
            "Hasil Prediksi :  [0. 0. 0. 0. 0. 0. 0. 0. 0. 0. 1. 1. 1. 1. 1. 1. 1. 1. 1. 1.]\n"
          ],
          "name": "stdout"
        }
      ]
    },
    {
      "cell_type": "code",
      "metadata": {
        "colab": {
          "base_uri": "https://localhost:8080/"
        },
        "id": "dRVPDHILuUR5",
        "outputId": "45b928bf-5321-4ceb-cad9-1972120c6201"
      },
      "source": [
        "#menghitung akurasi \n",
        "prediksiBenar = (hasilPrediksi == labelTesting).sum()\n",
        "prediksiSalah = (hasilPrediksi != labelTesting).sum()\n",
        "print(\"Prediksi Benar : \", prediksiBenar, \"data\")\n",
        "print(\"Prediksi Salah : \", prediksiSalah, \"data\")\n",
        "print(\"Akurasi : \", prediksiBenar/(prediksiBenar+prediksiSalah)*100,\"%\")"
      ],
      "execution_count": null,
      "outputs": [
        {
          "output_type": "stream",
          "text": [
            "Prediksi Benar :  20 data\n",
            "Prediksi Salah :  0 data\n",
            "Akurasi :  100.0 %\n"
          ],
          "name": "stdout"
        }
      ]
    },
    {
      "cell_type": "code",
      "metadata": {
        "id": "5y-qPzn8uZ5A"
      },
      "source": [
        ""
      ],
      "execution_count": null,
      "outputs": []
    }
  ]
}